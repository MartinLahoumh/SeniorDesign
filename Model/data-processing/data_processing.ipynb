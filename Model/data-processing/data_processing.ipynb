{
 "cells": [
  {
   "cell_type": "code",
   "execution_count": 1,
   "metadata": {},
   "outputs": [],
   "source": [
    "from torch.utils.data import Dataset\n",
    "from torchvision import transforms\n",
    "from torch.utils.data import DataLoader\n",
    "from PIL import Image\n",
    "import matplotlib.pyplot as plt\n",
    "import numpy as np\n",
    "import seaborn as sns\n",
    "import cv2\n",
    "import os\n",
    "import torch"
   ]
  },
  {
   "cell_type": "markdown",
   "metadata": {},
   "source": [
    "# Data Processing"
   ]
  },
  {
   "cell_type": "code",
   "execution_count": 3,
   "metadata": {},
   "outputs": [],
   "source": [
    "# Class to Load images & transcriptions\n",
    "class TextDataset(Dataset):\n",
    "    def __init__(self, images_dir, transcriptions_dir, transform=None):\n",
    "        self.images_dir = images_dir\n",
    "        self.transcriptions_dir = transcriptions_dir\n",
    "        self.transform = transform\n",
    "        self.image_filenames = os.listdir(images_dir)\n",
    "\n",
    "    def parse_transcrpition(self, transcription_file):\n",
    "        bounding_boxes = []\n",
    "        texts = []\n",
    "\n",
    "        with open(transcription_file, 'r') as file:\n",
    "            for line in file:\n",
    "                parts = line.strip().split(',')\n",
    "                coords = list(map(int, parts[:8]))\n",
    "                text = parts[8]\n",
    "                bounding_boxes.append(coords)\n",
    "                texts.append(text)\n",
    "            \n",
    "        return bounding_boxes, texts\n",
    "    \n",
    "    def __len__(self):\n",
    "        return len(self.image_filenames)\n",
    "    \n",
    "    def __getitem__(self, index):\n",
    "        image_name = self.image_filenames[index]\n",
    "        image_path = os.path.join(self.images_dir, image_name)\n",
    "        transcription_file_name = f\"gt_{image_name.replace('.jpg', '.txt')}\"\n",
    "        transcription_path = os.path.join(self.transcriptions_dir, transcription_file_name)\n",
    "        image = Image.open(image_path).convert(\"RGB\")\n",
    "        bounding_boxes, texts = self.parse_transcrpition(transcription_path)\n",
    "\n",
    "        if self.transform:\n",
    "            image = self.transform(image)\n",
    "\n",
    "        return image, bounding_boxes, texts\n",
    "        "
   ]
  },
  {
   "cell_type": "code",
   "execution_count": 4,
   "metadata": {},
   "outputs": [],
   "source": [
    "transform = transforms.Compose([\n",
    "    transforms.Resize((256, 256)),\n",
    "    transforms.ToTensor(),\n",
    "    transforms.Normalize((0.5,), (0.5,))\n",
    "])\n",
    "\n",
    "dataset = TextDataset(images_dir=\"./dataset/test/test_images/\", transcriptions_dir=\"./dataset/test/test_localization_transcription/\")\n",
    "data_loader = DataLoader(dataset, batch_size=8, shuffle=True, num_workers=4)"
   ]
  },
  {
   "cell_type": "code",
   "execution_count": 5,
   "metadata": {},
   "outputs": [],
   "source": [
    "def visualize_bounding_boxes(image_path, bounding_boxes, texts):\n",
    "    image = cv2.imread(image_path)\n",
    "\n",
    "    for box, text in zip(bounding_boxes, texts):\n",
    "        points = np.array([[box[i], box[i + 1]] for i in range(0, 8, 2)], np.int32)\n",
    "        points = points.reshape((-1, 1, 2))\n",
    "        cv2.polylines(image, [points], isClosed=True, color=(0, 255, 0), thickness=2)\n",
    "        cv2.putText(image, text, (box[0], box[1] - 10), cv2.FONT_HERSHEY_COMPLEX, 0.5, (255, 0, 0), 1)\n",
    "\n",
    "    cv2.imshow(\"Image with bounding Boxes\", image)\n",
    "    cv2.waitKey(0)\n",
    "    cv2.destroyAllWindows()"
   ]
  },
  {
   "cell_type": "code",
   "execution_count": 6,
   "metadata": {},
   "outputs": [],
   "source": [
    "image_path = \"./dataset/test/test_images/img_10.jpg\"\n",
    "bounding_boxes, texts = dataset.parse_transcrpition('./dataset/test/test_localization_transcription/gt_img_10.txt')\n",
    "visualize_bounding_boxes( image_path, bounding_boxes, texts)"
   ]
  },
  {
   "cell_type": "markdown",
   "metadata": {},
   "source": [
    "# Analyticals of Dataset"
   ]
  },
  {
   "cell_type": "code",
   "execution_count": 7,
   "metadata": {},
   "outputs": [],
   "source": [
    "def calculate_statistics(dataset):\n",
    "    num_bboxes = []\n",
    "    text_lengths = []\n",
    " \n",
    "    for _, bounding_boxes, texts in dataset:\n",
    "        num_bboxes.append(len(bounding_boxes))\n",
    "        text_lengths.extend([len(text) for text in texts])\n",
    " \n",
    "    return num_bboxes, text_lengths"
   ]
  },
  {
   "cell_type": "code",
   "execution_count": 8,
   "metadata": {},
   "outputs": [],
   "source": [
    "def plot_histogram(data, title, xlabel, ylabel):\n",
    "    plt.hist(data, bins=20, edgecolor='black')\n",
    "    plt.title(title)\n",
    "    plt.xlabel(xlabel)\n",
    "    plt.ylabel(ylabel)\n",
    "    plt.grid(axis='y', alpha=0.75)\n",
    "    plt.show()"
   ]
  },
  {
   "cell_type": "code",
   "execution_count": 9,
   "metadata": {},
   "outputs": [],
   "source": [
    "# Function for correlation analysis\n",
    "def plot_correlation_matrix(num_bboxes, text_lengths, box_areas):\n",
    "    data = np.array([num_bboxes, text_lengths, box_areas])\n",
    "    corr_matrix = np.corrcoef(data)\n",
    "   \n",
    "    plt.figure(figsize=(10, 8))\n",
    "    sns.heatmap(corr_matrix, annot=True, fmt=\".2f\", cmap='coolwarm', square=True,\n",
    "                xticklabels=['Num Bboxes', 'Text Lengths', 'Box Areas'],\n",
    "                yticklabels=['Num Bboxes', 'Text Lengths', 'Box Areas'])\n",
    "    plt.title('Correlation Matrix')\n",
    "    plt.show()"
   ]
  },
  {
   "cell_type": "code",
   "execution_count": 10,
   "metadata": {},
   "outputs": [
    {
     "name": "stdout",
     "output_type": "stream",
     "text": [
      "Bounding Boxes Statistics:\n",
      "Mean: 10.46, Median: 8.00, Std Dev: 9.14, Min: 1, Max: 90\n",
      "Text Length Statistics:\n",
      "Mean: 3.93, Median: 3.00, Std Dev: 1.77, Min: 2, Max: 21\n"
     ]
    }
   ],
   "source": [
    "num_bboxes, text_lengths = calculate_statistics(dataset)\n",
    "\n",
    "# Calculate standard statistics for bounding boxes\n",
    "bbox_mean = np.mean(num_bboxes)\n",
    "bbox_median = np.median(num_bboxes)\n",
    "bbox_std = np.std(num_bboxes)\n",
    "bbox_min = np.min(num_bboxes)\n",
    "bbox_max = np.max(num_bboxes)\n",
    "\n",
    "# Calculate standard statistics for text lengths\n",
    "text_len_mean = np.mean(text_lengths)\n",
    "text_len_median = np.median(text_lengths)\n",
    "text_len_std = np.std(text_lengths)\n",
    "text_len_min = np.min(text_lengths)\n",
    "text_len_max = np.max(text_lengths)\n",
    "\n",
    "# Optional statistics\n",
    "print(\"Bounding Boxes Statistics:\")\n",
    "print(f\"Mean: {bbox_mean:.2f}, Median: {bbox_median:.2f}, Std Dev: {bbox_std:.2f}, Min: {bbox_min}, Max: {bbox_max}\")\n",
    "print(\"Text Length Statistics:\")\n",
    "print(f\"Mean: {text_len_mean:.2f}, Median: {text_len_median:.2f}, Std Dev: {text_len_std:.2f}, Min: {text_len_min}, Max: {text_len_max}\")"
   ]
  },
  {
   "cell_type": "code",
   "execution_count": 11,
   "metadata": {},
   "outputs": [
    {
     "data": {
      "image/png": "[encoded data removed]",
      "text/plain": [
       "<Figure size 640x480 with 1 Axes>"
      ]
     },
     "metadata": {},
     "output_type": "display_data"
    },
    {
     "data": {
      "image/png": "[encoded data removed]",
      "text/plain": [
       "<Figure size 640x480 with 1 Axes>"
      ]
     },
     "metadata": {},
     "output_type": "display_data"
    }
   ],
   "source": [
    "# Plot statistics\n",
    "plot_histogram(num_bboxes, 'Number of Bounding Boxes per Image', 'Number of Bounding Boxes', 'Frequency')\n",
    "plot_histogram(text_lengths, 'Text Length Distribution', 'Text Length', 'Frequency')"
   ]
  },
  {
   "cell_type": "code",
   "execution_count": 12,
   "metadata": {},
   "outputs": [
    {
     "name": "stdout",
     "output_type": "stream",
     "text": [
      "Total number of images: 500\n",
      "Total bounding boxes: 5230\n",
      "Average number of bounding boxes per image: 10.46\n",
      "Average text length: 3.93\n",
      "Median number of bounding boxes per image: 8.00\n",
      "Standard deviation of nbounding boxes per image: 9.14\n",
      "Minimum bounding boxes in an image: 1\n",
      "Maximum bounding boxes in an image: 90\n",
      "\n",
      "Median text length: 3.00\n",
      "Standard deviation of text length: 1.77\n",
      "Minimum text length: 2\n",
      "Maximum text length: 21\n"
     ]
    }
   ],
   "source": [
    "print(f\"Total number of images: {len(dataset)}\")\n",
    "print(f\"Total bounding boxes: {sum(num_bboxes)}\")\n",
    "print(f\"Average number of bounding boxes per image: {np.mean(num_bboxes):.2f}\")\n",
    "print(f\"Average text length: {np.mean(text_lengths):.2f}\")\n",
    "print(f\"Median number of bounding boxes per image: {bbox_median:.2f}\")\n",
    "print(f\"Standard deviation of nbounding boxes per image: {bbox_std:.2f}\")\n",
    "print(f\"Minimum bounding boxes in an image: {bbox_min}\")\n",
    "print(f\"Maximum bounding boxes in an image: {bbox_max}\")\n",
    "print()\n",
    "print(f\"Median text length: {text_len_median:.2f}\")\n",
    "print(f\"Standard deviation of text length: {text_len_std:.2f}\")\n",
    "print(f\"Minimum text length: {text_len_min}\")\n",
    "print(f\"Maximum text length: {text_len_max}\")"
   ]
  },
  {
   "cell_type": "code",
   "execution_count": 15,
   "metadata": {},
   "outputs": [],
   "source": [
    "# Function to format and display the detected text\n",
    "def display_detected_text(dataset):\n",
    "    print(f\"{'=' * 50}\")\n",
    "    print(f\"{'Detected Text from Dataset':^50}\")\n",
    "    print(f\"{'=' * 50}\\n\")\n",
    "\n",
    "    for index in range(len(dataset)):\n",
    "        _, _, texts = dataset[index]\n",
    "        image_name = dataset.image_filenames[index]\n",
    "        \n",
    "        print(f\"Image: {image_name}\")\n",
    "        print(f\"{'-' * 50}\")\n",
    "        \n",
    "        if texts:\n",
    "            for i, text in enumerate(texts, start=1):\n",
    "                print(f\"Text {i}: {text}\")\n",
    "        else:\n",
    "            print(\"No text detected.\")\n",
    "        \n",
    "        print(f\"{'=' * 50}\\n\")"
   ]
  },
  {
   "cell_type": "code",
   "execution_count": 14,
   "metadata": {},
   "outputs": [],
   "source": [
    "# Display all detected text\n",
    "# display_detected_text(dataset)"
   ]
  },
  {
   "cell_type": "code",
   "execution_count": null,
   "metadata": {},
   "outputs": [],
   "source": []
  }
 ],
 "metadata": {
  "kernelspec": {
   "display_name": "base",
   "language": "python",
   "name": "python3"
  },
  "language_info": {
   "codemirror_mode": {
    "name": "ipython",
    "version": 3
   },
   "file_extension": ".py",
   "mimetype": "text/x-python",
   "name": "python",
   "nbconvert_exporter": "python",
   "pygments_lexer": "ipython3",
   "version": "3.11.5"
  }
 },
 "nbformat": 4,
 "nbformat_minor": 2
}

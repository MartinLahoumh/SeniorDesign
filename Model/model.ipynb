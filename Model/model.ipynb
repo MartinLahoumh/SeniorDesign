{
 "cells": [
  {
   "cell_type": "code",
   "execution_count": 50,
   "metadata": {},
   "outputs": [
    {
     "name": "stdout",
     "output_type": "stream",
     "text": [
      "Collecting craft-text-detector\n",
      "  Using cached craft_text_detector-0.4.3-py3-none-any.whl.metadata (4.8 kB)\n",
      "Requirement already satisfied: torch>=1.6.0 in c:\\users\\1288843.transit.000\\appdata\\local\\anaconda3\\lib\\site-packages (from craft-text-detector) (2.4.1)\n",
      "Requirement already satisfied: torchvision>=0.7.0 in c:\\users\\1288843.transit.000\\appdata\\local\\anaconda3\\lib\\site-packages (from craft-text-detector) (0.19.1)\n",
      "Collecting opencv-python<4.5.4.62,>=3.4.8.29 (from craft-text-detector)\n",
      "  Using cached opencv-python-4.5.4.60.tar.gz (89.8 MB)\n",
      "Note: you may need to restart the kernel to use updated packages.\n"
     ]
    },
    {
     "name": "stderr",
     "output_type": "stream",
     "text": [
      "ERROR: Could not install packages due to an OSError: [Errno 2] No such file or directory: 'C:\\\\Users\\\\1288843.TRANSIT.000\\\\AppData\\\\Local\\\\Temp\\\\pip-install-sl5bfq_a\\\\opencv-python_ba64db24a6034801a4e7c0457a346b4a\\\\opencv/samples/winrt_universal/VideoCaptureXAML/video_capture_xaml/video_capture_xaml.WindowsPhone/video_capture_xaml.WindowsPhone.vcxproj.filters'\n",
      "HINT: This error might have occurred since this system does not have Windows Long Path support enabled. You can find information on how to enable this at https://pip.pypa.io/warnings/enable-long-paths\n",
      "\n"
     ]
    }
   ],
   "source": [
    "%pip install craft-text-detector"
   ]
  },
  {
   "cell_type": "code",
   "execution_count": 49,
   "metadata": {},
   "outputs": [
    {
     "ename": "ModuleNotFoundError",
     "evalue": "No module named 'craft_text_detector'",
     "output_type": "error",
     "traceback": [
      "\u001b[1;31m---------------------------------------------------------------------------\u001b[0m",
      "\u001b[1;31mModuleNotFoundError\u001b[0m                       Traceback (most recent call last)",
      "Cell \u001b[1;32mIn[49], line 5\u001b[0m\n\u001b[0;32m      3\u001b[0m \u001b[38;5;28;01mfrom\u001b[39;00m \u001b[38;5;21;01mtorch\u001b[39;00m\u001b[38;5;21;01m.\u001b[39;00m\u001b[38;5;21;01mutils\u001b[39;00m\u001b[38;5;21;01m.\u001b[39;00m\u001b[38;5;21;01mdata\u001b[39;00m \u001b[38;5;28;01mimport\u001b[39;00m DataLoader\n\u001b[0;32m      4\u001b[0m \u001b[38;5;28;01mfrom\u001b[39;00m \u001b[38;5;21;01mPIL\u001b[39;00m \u001b[38;5;28;01mimport\u001b[39;00m Image\n\u001b[1;32m----> 5\u001b[0m \u001b[38;5;28;01mfrom\u001b[39;00m \u001b[38;5;21;01mcraft_text_detector\u001b[39;00m \u001b[38;5;28;01mimport\u001b[39;00m Craft\n\u001b[0;32m      6\u001b[0m \u001b[38;5;28;01mimport\u001b[39;00m \u001b[38;5;21;01mmatplotlib\u001b[39;00m\u001b[38;5;21;01m.\u001b[39;00m\u001b[38;5;21;01mpyplot\u001b[39;00m \u001b[38;5;28;01mas\u001b[39;00m \u001b[38;5;21;01mplt\u001b[39;00m\n\u001b[0;32m      7\u001b[0m \u001b[38;5;28;01mimport\u001b[39;00m \u001b[38;5;21;01mnumpy\u001b[39;00m \u001b[38;5;28;01mas\u001b[39;00m \u001b[38;5;21;01mnp\u001b[39;00m\n",
      "\u001b[1;31mModuleNotFoundError\u001b[0m: No module named 'craft_text_detector'"
     ]
    }
   ],
   "source": [
    "from torch.utils.data import Dataset\n",
    "from torchvision import transforms\n",
    "from torch.utils.data import DataLoader\n",
    "from PIL import Image\n",
    "from craft_text_detector import Craft\n",
    "import matplotlib.pyplot as plt\n",
    "import numpy as np\n",
    "import cv2\n",
    "import os\n",
    "import torch"
   ]
  },
  {
   "cell_type": "code",
   "execution_count": 34,
   "metadata": {},
   "outputs": [],
   "source": [
    "# Class to Load images & transcriptions\n",
    "class TextDataset(Dataset):\n",
    "    def __init__(self, images_dir, transcriptions_dir, transform=None):\n",
    "        self.images_dir = images_dir\n",
    "        self.transcriptions_dir = transcriptions_dir\n",
    "        self.transform = transform\n",
    "        self.image_filenames = os.listdir(images_dir)\n",
    "\n",
    "    def parse_transcrpition(self, transcription_file):\n",
    "        bounding_boxes = []\n",
    "        texts = []\n",
    "\n",
    "        with open(transcription_file, 'r') as file:\n",
    "            for line in file:\n",
    "                parts = line.strip().split(',')\n",
    "                coords = list(map(int, parts[:8]))\n",
    "                text = parts[8]\n",
    "                bounding_boxes.append(coords)\n",
    "                texts.append(text)\n",
    "            \n",
    "        return bounding_boxes, texts\n",
    "    \n",
    "    def __len__(self):\n",
    "        return len(self.image_filenames)\n",
    "    \n",
    "    def __getitem__(self, index):\n",
    "        image_name = self.image_filenames[index]\n",
    "        image_path = os.path.join(self.images_dir, image_name)\n",
    "        transcription_path = os.path.join(self.transcriptions_dir, image_name.replace(\".jpg\", '.txt'))\n",
    "        image = Image.open(image_path).convert(\"RGB\")\n",
    "        bounding_boxes, texts = self.parse_transcrpition(transcription_path)\n",
    "\n",
    "        if self.transform:\n",
    "            image = self.transform(image)\n",
    "\n",
    "        return image, bounding_boxes, texts\n",
    "        "
   ]
  },
  {
   "cell_type": "code",
   "execution_count": 35,
   "metadata": {},
   "outputs": [],
   "source": [
    "transform = transforms.Compose([\n",
    "    transforms.Resize((256, 256)),\n",
    "    transforms.ToTensor(),\n",
    "    transforms.Normalize((0.5,), (0.5,))\n",
    "])\n",
    "\n",
    "dataset = TextDataset(images_dir=\"./dataset/test/test_images/\", transcriptions_dir=\"./dataset/test/test_localization_transcription/\")\n",
    "data_loader = DataLoader(dataset, batch_size=8, shuffle=True, num_workers=4)"
   ]
  },
  {
   "cell_type": "code",
   "execution_count": 36,
   "metadata": {},
   "outputs": [],
   "source": [
    "def visualize_bounding_boxes(image_path, bounding_boxes, texts):\n",
    "    image = cv2.imread(image_path)\n",
    "\n",
    "    for box, text in zip(bounding_boxes, texts):\n",
    "        points = np.array([[box[i], box[i + 1]] for i in range(0, 8, 2)], np.int32)\n",
    "        points = points.reshape((-1, 1, 2))\n",
    "        cv2.polylines(image, [points], isClosed=True, color=(0, 255, 0), thickness=2)\n",
    "        cv2.putText(image, text, (box[0], box[1] - 10), cv2.FONT_HERSHEY_COMPLEX, 0.5, (255, 0, 0), 1)\n",
    "\n",
    "    cv2.imshow(\"Image with bounding Boxes\", image)\n",
    "    cv2.waitKey(0)\n",
    "    cv2.destroyAllWindows()"
   ]
  },
  {
   "cell_type": "code",
   "execution_count": 44,
   "metadata": {},
   "outputs": [],
   "source": [
    "image_path = \"./dataset/test/test_images/img_100.jpg\"\n",
    "bounding_boxes, texts = dataset.parse_transcrpition('./dataset/test/test_localization_transcription/gt_img_100.txt')\n",
    "visualize_bounding_boxes( image_path, bounding_boxes, texts)"
   ]
  },
  {
   "cell_type": "code",
   "execution_count": null,
   "metadata": {},
   "outputs": [],
   "source": []
  }
 ],
 "metadata": {
  "kernelspec": {
   "display_name": "base",
   "language": "python",
   "name": "python3"
  },
  "language_info": {
   "codemirror_mode": {
    "name": "ipython",
    "version": 3
   },
   "file_extension": ".py",
   "mimetype": "text/x-python",
   "name": "python",
   "nbconvert_exporter": "python",
   "pygments_lexer": "ipython3",
   "version": "3.12.4"
  }
 },
 "nbformat": 4,
 "nbformat_minor": 2
}

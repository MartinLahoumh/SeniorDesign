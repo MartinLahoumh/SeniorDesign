{
 "cells": [
  {
   "cell_type": "code",
   "execution_count": 8,
   "metadata": {},
   "outputs": [],
   "source": [
    "import easyocr\n",
    "import os\n",
    "import cv2"
   ]
  },
  {
   "cell_type": "code",
   "execution_count": 9,
   "metadata": {},
   "outputs": [],
   "source": [
    "# Run this code. Importing easyocr won't work if you don't\n",
    "os.environ['KMP_DUPLICATE_LIB_OK'] = 'TRUE'"
   ]
  },
  {
   "cell_type": "code",
   "execution_count": 18,
   "metadata": {},
   "outputs": [],
   "source": [
    "count = 0"
   ]
  },
  {
   "cell_type": "code",
   "execution_count": 10,
   "metadata": {},
   "outputs": [
    {
     "name": "stderr",
     "output_type": "stream",
     "text": [
      "Neither CUDA nor MPS are available - defaulting to CPU. Note: This module is much faster with a GPU.\n"
     ]
    }
   ],
   "source": [
    "reader = easyocr.Reader(['ch_tra', 'en'])"
   ]
  },
  {
   "cell_type": "code",
   "execution_count": 16,
   "metadata": {},
   "outputs": [],
   "source": [
    "img = cv2.imread('test_img.jpg')\n",
    "result = reader.readtext(img)"
   ]
  },
  {
   "cell_type": "code",
   "execution_count": 19,
   "metadata": {},
   "outputs": [
    {
     "name": "stdout",
     "output_type": "stream",
     "text": [
      "Image saved as 'image_with_boxes.jpg'.\n"
     ]
    }
   ],
   "source": [
    "# Loop through the results and draw bounding boxes\n",
    "for detection in result:\n",
    "    top_left = tuple([int(val) for val in detection[0][0]])  # Top-left corner of the bounding box\n",
    "    bottom_right = tuple([int(val) for val in detection[0][2]])  # Bottom-right corner of the bounding box\n",
    "    cv2.rectangle(img, top_left, bottom_right, (0, 255, 0), 3)  # Draw the rectangle (green box)\n",
    "\n",
    "# Save the image to a file\n",
    "output_path = os.path.join(\"results\", f'result-{count + 1}.jpg')\n",
    "cv2.imwrite(output_path, img)\n",
    "print(\"Image saved as 'image_with_boxes.jpg'.\")"
   ]
  },
  {
   "cell_type": "code",
   "execution_count": null,
   "metadata": {},
   "outputs": [],
   "source": []
  }
 ],
 "metadata": {
  "kernelspec": {
   "display_name": "base",
   "language": "python",
   "name": "python3"
  },
  "language_info": {
   "codemirror_mode": {
    "name": "ipython",
    "version": 3
   },
   "file_extension": ".py",
   "mimetype": "text/x-python",
   "name": "python",
   "nbconvert_exporter": "python",
   "pygments_lexer": "ipython3",
   "version": "3.11.5"
  }
 },
 "nbformat": 4,
 "nbformat_minor": 2
}

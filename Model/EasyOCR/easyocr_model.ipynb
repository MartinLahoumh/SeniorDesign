{
 "cells": [
  {
   "cell_type": "code",
   "execution_count": 13,
   "metadata": {},
   "outputs": [],
   "source": [
    "from sklearn.metrics import precision_score, recall_score, f1_score\n",
    "from difflib import SequenceMatcher\n",
    "from tkinter import simpledialog\n",
    "import matplotlib.pyplot as plt\n",
    "from datetime import datetime\n",
    "from collections import Counter\n",
    "import tkinter as tk\n",
    "import numpy as np\n",
    "import easyocr\n",
    "import cv2\n",
    "import os"
   ]
  },
  {
   "cell_type": "code",
   "execution_count": 3,
   "metadata": {},
   "outputs": [],
   "source": [
    "# Run this code. Importing easyocr won't work if you don't\n",
    "os.environ['KMP_DUPLICATE_LIB_OK'] = 'TRUE'"
   ]
  },
  {
   "cell_type": "code",
   "execution_count": 4,
   "metadata": {},
   "outputs": [],
   "source": [
    "# You only need to run this once\n",
    "reader = easyocr.Reader(['ch_tra', 'en'])"
   ]
  },
  {
   "cell_type": "code",
   "execution_count": 5,
   "metadata": {},
   "outputs": [],
   "source": [
    "input_folder = '../dataset/IDCAR2015_Dataset/test/test_images'\n",
    "output_folder = 'results'\n",
    "\n",
    "if not os.path.exists(output_folder):\n",
    "    os.makedirs(output_folder)"
   ]
  },
  {
   "cell_type": "markdown",
   "metadata": {},
   "source": [
    "# Code to test model on a single image"
   ]
  },
  {
   "cell_type": "code",
   "execution_count": 6,
   "metadata": {},
   "outputs": [],
   "source": [
    "img = cv2.imread('../dataset/Custom Dataset/test_image_1.jpg')\n",
    "result = reader.readtext(img)"
   ]
  },
  {
   "cell_type": "code",
   "execution_count": 7,
   "metadata": {},
   "outputs": [],
   "source": [
    "# Prepare to store detected texts and confidence scores\n",
    "detected_texts = []\n",
    "confidence_scores = []"
   ]
  },
  {
   "cell_type": "code",
   "execution_count": 8,
   "metadata": {},
   "outputs": [],
   "source": [
    "# Loop through the results and draw bounding boxes\n",
    "for detection in result:\n",
    "    top_left = tuple([int(val) for val in detection[0][0]])  \n",
    "    bottom_right = tuple([int(val) for val in detection[0][2]])  \n",
    "    \n",
    "    # Draw the rectangle (green box)\n",
    "    cv2.rectangle(img, top_left, bottom_right, (0, 255, 0), 3)\n",
    "    \n",
    "    # Extract detected text and confidence score\n",
    "    detected_text = detection[1]\n",
    "    confidence = detection[2]\n",
    "    \n",
    "    # Store detected text and confidence\n",
    "    detected_texts.append(detected_text)\n",
    "    confidence_scores.append(confidence)\n",
    "    \n",
    "    # Optionally, display the detected text on the image\n",
    "    cv2.putText(img, detected_text, (top_left[0], top_left[1] - 10), cv2.FONT_HERSHEY_SIMPLEX, 0.5, (0, 255, 0), 2)"
   ]
  },
  {
   "cell_type": "code",
   "execution_count": 9,
   "metadata": {},
   "outputs": [
    {
     "name": "stdout",
     "output_type": "stream",
     "text": [
      "Image saved.\n"
     ]
    }
   ],
   "source": [
    "now = datetime.now()\n",
    "datetime_str = now.strftime(\"%Y%m%d_%H%M%S\") \n",
    "\n",
    "output_path = os.path.join(\"results\", f'result-{datetime_str}.jpg')  # Use a fixed filename or create dynamic filenames\n",
    "cv2.imwrite(output_path, img)\n",
    "print(\"Image saved.\")"
   ]
  },
  {
   "cell_type": "code",
   "execution_count": 10,
   "metadata": {},
   "outputs": [
    {
     "name": "stdout",
     "output_type": "stream",
     "text": [
      "Detected Texts and Confidence Scores:\n",
      "1: FINAL SEASON | Confidence: 0.66\n",
      "2: Aas; | Confidence: 0.10\n",
      "3: p | Confidence: 0.01\n",
      "4: Taf | Confidence: 0.01\n",
      "5: m三 | Confidence: 0.00\n",
      "6: =881123 | Confidence: 0.00\n",
      "7: 3051573 | Confidence: 0.01\n",
      "8: 16516;185118 | Confidence: 0.00\n"
     ]
    }
   ],
   "source": [
    "print(\"Detected Texts and Confidence Scores:\")\n",
    "\n",
    "for i, (text, score) in enumerate(zip(detected_texts, confidence_scores)):\n",
    "    print(f\"{i + 1}: {text} | Confidence: {score:.2f}\")"
   ]
  },
  {
   "cell_type": "code",
   "execution_count": null,
   "metadata": {},
   "outputs": [],
   "source": [
    "# Plotting the accuracy based on confidence scores\n",
    "plt.figure(figsize=(10, 5))\n",
    "plt.plot(confidence_scores, marker='o', linestyle='-', color='b')\n",
    "plt.title('Detected Text Confidence Scores')\n",
    "plt.xlabel('Detection Index')\n",
    "plt.ylabel('Confidence Score')\n",
    "plt.ylim(0, 1)  # Confidence scores are between 0 and 1\n",
    "plt.grid()\n",
    "plt.xticks(np.arange(len(detected_texts)), [f'Text {i+1}' for i in range(len(detected_texts))], rotation=45)\n",
    "plt.tight_layout()\n",
    "plt.show()"
   ]
  },
  {
   "cell_type": "code",
   "execution_count": null,
   "metadata": {},
   "outputs": [],
   "source": [
    "# Prepare data for the graph\n",
    "texts = []\n",
    "confidences = []\n",
    "total_confidence = 0\n",
    "num_detections = len(result)\n",
    "\n",
    "# Gather data\n",
    "for detection in result:\n",
    "    detected_box, detected_text, confidence = detection\n",
    "    total_confidence += confidence\n",
    "    \n",
    "    # Store detected text and confidence for the graph\n",
    "    texts.append(detected_text)\n",
    "    confidences.append(confidence)\n",
    "    \n",
    "    # Print detected text and confidence\n",
    "    #print(f\"Detected Text: {detected_text} | Confidence: {confidence:.2f}\")\n",
    "\n",
    "# Calculate average confidence\n",
    "average_confidence = total_confidence / num_detections if num_detections > 0 else 0\n",
    "\n",
    "# Output the average confidence\n",
    "print(f\"Average Confidence: {average_confidence:.2f}\")"
   ]
  },
  {
   "cell_type": "code",
   "execution_count": null,
   "metadata": {},
   "outputs": [],
   "source": [
    "plt.figure(figsize=(10, 6))\n",
    "plt.barh(texts, confidences, color='skyblue')\n",
    "plt.xlabel('Confidence')\n",
    "plt.ylabel('Detected Text')\n",
    "plt.title('Confidence Scores for Detected Text')\n",
    "plt.xlim(0, 1)  # Confidence is between 0 and 1\n",
    "plt.tight_layout()"
   ]
  },
  {
   "cell_type": "markdown",
   "metadata": {},
   "source": [
    "# Code to test model on multiple images"
   ]
  },
  {
   "cell_type": "code",
   "execution_count": 1,
   "metadata": {},
   "outputs": [],
   "source": [
    "for file_name in os.listdir(input_folder):\n",
    "    if file_name.endswith(\".jpg\") or file_name.endswith(\".png\"):\n",
    "        img_path = os.path.join(input_folder, file_name)\n",
    "        img = cv2.imread(img_path)\n",
    "        res = reader.readtext(img)\n",
    "\n",
    "        detected_texts = []\n",
    "        confidence_scores = []\n",
    "\n",
    "        # Loop through the results and draw bounding boxes\n",
    "        for detection in res:\n",
    "            top_left = tuple([int(val) for val in detection[0][0]])  \n",
    "            bottom_right = tuple([int(val) for val in detection[0][2]])  \n",
    "            \n",
    "            # Draw the rectangle (green box)\n",
    "            cv2.rectangle(img, top_left, bottom_right, (0, 255, 0), 3)\n",
    "            \n",
    "            # Extract detected text and confidence score\n",
    "            detected_text = detection[1]\n",
    "            confidence = detection[2]\n",
    "            \n",
    "            # Store detected text and confidence\n",
    "            detected_texts.append(detected_text)\n",
    "            confidence_scores.append(confidence)\n",
    "            \n",
    "            # Optionally, display the detected text on the image\n",
    "            cv2.putText(img, detected_text, (top_left[0], top_left[1] - 10), cv2.FONT_HERSHEY_SIMPLEX, 0.5, (0, 255, 0), 2)\n",
    "\n",
    "            # Get the current date and time for a unique filename\n",
    "            now = datetime.now()\n",
    "            datetime_str = now.strftime(\"%Y%m%d_%H%M%S\")\n",
    "\n",
    "            # Save the processed image with detected texts in the output folder\n",
    "            output_path = os.path.join(output_folder, f'result-{datetime_str}_{file_name}')\n",
    "            cv2.imwrite(output_path, img)\n",
    "            print(f\"Processed and saved: {output_path}\")\n",
    "\n",
    "print(\"All images processed.\")"
   ]
  },
  {
   "cell_type": "code",
   "execution_count": 9,
   "metadata": {},
   "outputs": [
    {
     "name": "stdout",
     "output_type": "stream",
     "text": [
      "Average Confidence Score: 0.58\n"
     ]
    }
   ],
   "source": [
    "average_confidence = np.mean(confidence_scores)\n",
    "\n",
    "print(f\"Average Confidence Score: {average_confidence:.2f}\")"
   ]
  },
  {
   "cell_type": "code",
   "execution_count": 10,
   "metadata": {},
   "outputs": [
    {
     "data": {
      "image/png": "[encoded data removed]",
      "text/plain": [
       "<Figure size 640x480 with 1 Axes>"
      ]
     },
     "metadata": {},
     "output_type": "display_data"
    }
   ],
   "source": [
    "plt.hist(confidence_scores, bins=10, edgecolor='black')\n",
    "plt.title('Distribution of Confidence Scores')\n",
    "plt.xlabel('Confidence Score')\n",
    "plt.ylabel('Frequency')\n",
    "plt.show()"
   ]
  },
  {
   "cell_type": "code",
   "execution_count": 11,
   "metadata": {},
   "outputs": [
    {
     "data": {
      "image/png": "[encoded data removed]",
      "text/plain": [
       "<Figure size 640x480 with 1 Axes>"
      ]
     },
     "metadata": {},
     "output_type": "display_data"
    }
   ],
   "source": [
    "text_lengths = [len(text) for text in detected_texts]\n",
    "\n",
    "plt.scatter(text_lengths, confidence_scores)\n",
    "plt.title('Text Length vs Confidence Score')\n",
    "plt.xlabel('Text Length (Number of Characters)')\n",
    "plt.ylabel('Confidence Score')\n",
    "plt.show()"
   ]
  },
  {
   "cell_type": "code",
   "execution_count": null,
   "metadata": {},
   "outputs": [],
   "source": []
  }
 ],
 "metadata": {
  "kernelspec": {
   "display_name": "base",
   "language": "python",
   "name": "python3"
  },
  "language_info": {
   "codemirror_mode": {
    "name": "ipython",
    "version": 3
   },
   "file_extension": ".py",
   "mimetype": "text/x-python",
   "name": "python",
   "nbconvert_exporter": "python",
   "pygments_lexer": "ipython3",
   "version": "3.11.5"
  }
 },
 "nbformat": 4,
 "nbformat_minor": 2
}
